{
 "cells": [
  {
   "cell_type": "code",
   "execution_count": 4,
   "id": "503a2495-c26f-4813-aaa6-85e9314d8808",
   "metadata": {
    "tags": []
   },
   "outputs": [],
   "source": [
    "library(tidyverse)\n"
   ]
  },
  {
   "cell_type": "code",
   "execution_count": 5,
   "id": "c1373b44-23a3-4b35-8f1d-da8885ab08e4",
   "metadata": {
    "tags": []
   },
   "outputs": [
    {
     "ename": "ERROR",
     "evalue": "Error in parse(text = x, srcfile = src): <text>:18:1: unexpected symbol\n17: #Second visual\n18: visual_2\n    ^\n",
     "output_type": "error",
     "traceback": [
      "Error in parse(text = x, srcfile = src): <text>:18:1: unexpected symbol\n17: #Second visual\n18: visual_2\n    ^\nTraceback:\n"
     ]
    }
   ],
   "source": [
    "url <- \"data/processed.switzerland.data\"\n",
    "data <- read_csv(url)\n",
    "#Does not work \n",
    "#Probobaly because the url is not in .csv format\n",
    "\n",
    "data_filtered(somethingsomething)\n",
    "#To specify which variables we actually care about\n",
    "\n",
    "data_split <- initial_split(data_filtered, prop = 0.75, strata = num)\n",
    "data_train <- training(data_split)\n",
    "\n",
    "#First visual\n",
    "visual <- ggplot(aes(x=age,y=trestbps) +\n",
    "                 geom_line() +\n",
    "                 labs(x= \"Age\", y = \"Resting Blood Pressure\")\n",
    "                 \n",
    "#Second visual\n",
    "visual_2 <- ggplot(aes(x=age,y=chol) +\n",
    "                 geom_line() +\n",
    "                 labs(x= \"Age\", y = \"Cholesterol\")\n",
    "#Continues through a few more visuals to demonstrate that as age increases, so does all our other variables\n",
    "#We can use these visualizations as prove in the concluding \"what we expect to find\" paragraph"
   ]
  },
  {
   "cell_type": "code",
   "execution_count": null,
   "id": "04a6de6b-826b-4a00-98f0-00409d489679",
   "metadata": {},
   "outputs": [],
   "source": []
  }
 ],
 "metadata": {
  "kernelspec": {
   "display_name": "R",
   "language": "R",
   "name": "ir"
  },
  "language_info": {
   "codemirror_mode": "r",
   "file_extension": ".r",
   "mimetype": "text/x-r-source",
   "name": "R",
   "pygments_lexer": "r",
   "version": "4.2.2"
  }
 },
 "nbformat": 4,
 "nbformat_minor": 5
}
